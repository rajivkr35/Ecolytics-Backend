{
 "cells": [
  {
   "cell_type": "code",
   "execution_count": 14,
   "id": "30b03897",
   "metadata": {},
   "outputs": [],
   "source": [
    "import pandas as pd"
   ]
  },
  {
   "cell_type": "code",
   "execution_count": 15,
   "id": "a9c01f2f",
   "metadata": {},
   "outputs": [],
   "source": [
    "df = pd.read_csv(\"carbon_footprint_data.csv\")"
   ]
  },
  {
   "cell_type": "code",
   "execution_count": 16,
   "id": "c91598b7",
   "metadata": {},
   "outputs": [
    {
     "name": "stdout",
     "output_type": "stream",
     "text": [
      "Shape: (1020, 16)\n"
     ]
    }
   ],
   "source": [
    "print(\"Shape:\", df.shape)"
   ]
  },
  {
   "cell_type": "code",
   "execution_count": 17,
   "id": "caaa6160",
   "metadata": {},
   "outputs": [
    {
     "data": {
      "text/html": [
       "<div>\n",
       "<style scoped>\n",
       "    .dataframe tbody tr th:only-of-type {\n",
       "        vertical-align: middle;\n",
       "    }\n",
       "\n",
       "    .dataframe tbody tr th {\n",
       "        vertical-align: top;\n",
       "    }\n",
       "\n",
       "    .dataframe thead th {\n",
       "        text-align: right;\n",
       "    }\n",
       "</style>\n",
       "<table border=\"1\" class=\"dataframe\">\n",
       "  <thead>\n",
       "    <tr style=\"text-align: right;\">\n",
       "      <th></th>\n",
       "      <th>private_km_per_week</th>\n",
       "      <th>fuel_type</th>\n",
       "      <th>public_km_per_week</th>\n",
       "      <th>electricity_per_month_kwh</th>\n",
       "      <th>uses_renewable_energy</th>\n",
       "      <th>meat_frequency</th>\n",
       "      <th>dairy_frequency</th>\n",
       "      <th>short_flights_per_year</th>\n",
       "      <th>long_flights_per_year</th>\n",
       "      <th>clothing_shopping_freq</th>\n",
       "      <th>electronics_shopping_freq</th>\n",
       "      <th>recycles_regularly</th>\n",
       "      <th>waste_kg_per_week</th>\n",
       "      <th>household_size</th>\n",
       "      <th>home_type</th>\n",
       "      <th>annual_carbon_footprint_tonnes</th>\n",
       "    </tr>\n",
       "  </thead>\n",
       "  <tbody>\n",
       "    <tr>\n",
       "      <th>0</th>\n",
       "      <td>315.0</td>\n",
       "      <td>Electric</td>\n",
       "      <td>223</td>\n",
       "      <td>576.0</td>\n",
       "      <td>0</td>\n",
       "      <td>Monthly</td>\n",
       "      <td>Daily</td>\n",
       "      <td>6</td>\n",
       "      <td>1</td>\n",
       "      <td>Quarterly</td>\n",
       "      <td>Never</td>\n",
       "      <td>1</td>\n",
       "      <td>10.46</td>\n",
       "      <td>2</td>\n",
       "      <td>Independent</td>\n",
       "      <td>0.11</td>\n",
       "    </tr>\n",
       "    <tr>\n",
       "      <th>1</th>\n",
       "      <td>278.0</td>\n",
       "      <td>Electric</td>\n",
       "      <td>292</td>\n",
       "      <td>50.0</td>\n",
       "      <td>1</td>\n",
       "      <td>Weekly</td>\n",
       "      <td>Weekly</td>\n",
       "      <td>1</td>\n",
       "      <td>4</td>\n",
       "      <td>Never</td>\n",
       "      <td>Monthly</td>\n",
       "      <td>1</td>\n",
       "      <td>9.21</td>\n",
       "      <td>3</td>\n",
       "      <td>Apartment</td>\n",
       "      <td>0.07</td>\n",
       "    </tr>\n",
       "    <tr>\n",
       "      <th>2</th>\n",
       "      <td>35.0</td>\n",
       "      <td>CNG</td>\n",
       "      <td>266</td>\n",
       "      <td>654.0</td>\n",
       "      <td>0</td>\n",
       "      <td>Monthly</td>\n",
       "      <td>Occasionally</td>\n",
       "      <td>3</td>\n",
       "      <td>4</td>\n",
       "      <td>Never</td>\n",
       "      <td>Rarely</td>\n",
       "      <td>1</td>\n",
       "      <td>14.43</td>\n",
       "      <td>4</td>\n",
       "      <td>Independent</td>\n",
       "      <td>0.10</td>\n",
       "    </tr>\n",
       "    <tr>\n",
       "      <th>3</th>\n",
       "      <td>160.0</td>\n",
       "      <td>Petrol</td>\n",
       "      <td>246</td>\n",
       "      <td>784.0</td>\n",
       "      <td>1</td>\n",
       "      <td>Daily</td>\n",
       "      <td>Occasionally</td>\n",
       "      <td>7</td>\n",
       "      <td>0</td>\n",
       "      <td>Monthly</td>\n",
       "      <td>Rarely</td>\n",
       "      <td>1</td>\n",
       "      <td>16.25</td>\n",
       "      <td>7</td>\n",
       "      <td>Rented Room</td>\n",
       "      <td>0.12</td>\n",
       "    </tr>\n",
       "    <tr>\n",
       "      <th>4</th>\n",
       "      <td>88.0</td>\n",
       "      <td>Diesel</td>\n",
       "      <td>48</td>\n",
       "      <td>299.0</td>\n",
       "      <td>0</td>\n",
       "      <td>Weekly</td>\n",
       "      <td>Weekly</td>\n",
       "      <td>6</td>\n",
       "      <td>3</td>\n",
       "      <td>Rarely</td>\n",
       "      <td>Rarely</td>\n",
       "      <td>0</td>\n",
       "      <td>5.38</td>\n",
       "      <td>6</td>\n",
       "      <td>Independent</td>\n",
       "      <td>0.06</td>\n",
       "    </tr>\n",
       "  </tbody>\n",
       "</table>\n",
       "</div>"
      ],
      "text/plain": [
       "   private_km_per_week fuel_type  public_km_per_week  \\\n",
       "0                315.0  Electric                 223   \n",
       "1                278.0  Electric                 292   \n",
       "2                 35.0       CNG                 266   \n",
       "3                160.0    Petrol                 246   \n",
       "4                 88.0    Diesel                  48   \n",
       "\n",
       "   electricity_per_month_kwh  uses_renewable_energy meat_frequency  \\\n",
       "0                      576.0                      0        Monthly   \n",
       "1                       50.0                      1         Weekly   \n",
       "2                      654.0                      0        Monthly   \n",
       "3                      784.0                      1          Daily   \n",
       "4                      299.0                      0         Weekly   \n",
       "\n",
       "  dairy_frequency  short_flights_per_year  long_flights_per_year  \\\n",
       "0           Daily                       6                      1   \n",
       "1          Weekly                       1                      4   \n",
       "2    Occasionally                       3                      4   \n",
       "3    Occasionally                       7                      0   \n",
       "4          Weekly                       6                      3   \n",
       "\n",
       "  clothing_shopping_freq electronics_shopping_freq  recycles_regularly  \\\n",
       "0              Quarterly                     Never                   1   \n",
       "1                  Never                   Monthly                   1   \n",
       "2                  Never                    Rarely                   1   \n",
       "3                Monthly                    Rarely                   1   \n",
       "4                 Rarely                    Rarely                   0   \n",
       "\n",
       "   waste_kg_per_week  household_size    home_type  \\\n",
       "0              10.46               2  Independent   \n",
       "1               9.21               3    Apartment   \n",
       "2              14.43               4  Independent   \n",
       "3              16.25               7  Rented Room   \n",
       "4               5.38               6  Independent   \n",
       "\n",
       "   annual_carbon_footprint_tonnes  \n",
       "0                            0.11  \n",
       "1                            0.07  \n",
       "2                            0.10  \n",
       "3                            0.12  \n",
       "4                            0.06  "
      ]
     },
     "execution_count": 17,
     "metadata": {},
     "output_type": "execute_result"
    }
   ],
   "source": [
    "df.head()"
   ]
  },
  {
   "cell_type": "code",
   "execution_count": 18,
   "id": "42ea17d2",
   "metadata": {},
   "outputs": [
    {
     "data": {
      "text/plain": [
       "private_km_per_week               51\n",
       "fuel_type                          0\n",
       "public_km_per_week                 0\n",
       "electricity_per_month_kwh         50\n",
       "uses_renewable_energy              0\n",
       "meat_frequency                    50\n",
       "dairy_frequency                    0\n",
       "short_flights_per_year             0\n",
       "long_flights_per_year              0\n",
       "clothing_shopping_freq             0\n",
       "electronics_shopping_freq          0\n",
       "recycles_regularly                 0\n",
       "waste_kg_per_week                  0\n",
       "household_size                     0\n",
       "home_type                          0\n",
       "annual_carbon_footprint_tonnes     0\n",
       "dtype: int64"
      ]
     },
     "execution_count": 18,
     "metadata": {},
     "output_type": "execute_result"
    }
   ],
   "source": [
    "df.isnull().sum()"
   ]
  },
  {
   "cell_type": "code",
   "execution_count": 19,
   "id": "b6ff934e",
   "metadata": {},
   "outputs": [
    {
     "data": {
      "text/plain": [
       "np.int64(20)"
      ]
     },
     "execution_count": 19,
     "metadata": {},
     "output_type": "execute_result"
    }
   ],
   "source": [
    "df.duplicated().sum()"
   ]
  },
  {
   "cell_type": "code",
   "execution_count": 20,
   "id": "3d1c9c66",
   "metadata": {},
   "outputs": [],
   "source": [
    "df = df.drop_duplicates()"
   ]
  },
  {
   "cell_type": "code",
   "execution_count": 21,
   "id": "0094109a",
   "metadata": {},
   "outputs": [
    {
     "data": {
      "text/plain": [
       "np.int64(0)"
      ]
     },
     "execution_count": 21,
     "metadata": {},
     "output_type": "execute_result"
    }
   ],
   "source": [
    "df.duplicated().sum()"
   ]
  },
  {
   "cell_type": "code",
   "execution_count": 22,
   "id": "80846cae",
   "metadata": {},
   "outputs": [
    {
     "name": "stdout",
     "output_type": "stream",
     "text": [
      "Shape: (1000, 16)\n"
     ]
    }
   ],
   "source": [
    "print(\"Shape:\", df.shape)"
   ]
  },
  {
   "cell_type": "code",
   "execution_count": 23,
   "id": "6db157cb",
   "metadata": {},
   "outputs": [
    {
     "name": "stderr",
     "output_type": "stream",
     "text": [
      "/var/folders/h_/833jl6755tjcbwvsbz1qd8tr0000gn/T/ipykernel_25493/665466633.py:1: FutureWarning: A value is trying to be set on a copy of a DataFrame or Series through chained assignment using an inplace method.\n",
      "The behavior will change in pandas 3.0. This inplace method will never work because the intermediate object on which we are setting values always behaves as a copy.\n",
      "\n",
      "For example, when doing 'df[col].method(value, inplace=True)', try using 'df.method({col: value}, inplace=True)' or df[col] = df[col].method(value) instead, to perform the operation inplace on the original object.\n",
      "\n",
      "\n",
      "  df['private_km_per_week'].fillna(df['private_km_per_week'].mean(), inplace=True)\n"
     ]
    }
   ],
   "source": [
    "df['private_km_per_week'].fillna(df['private_km_per_week'].mean(), inplace=True)"
   ]
  },
  {
   "cell_type": "code",
   "execution_count": 26,
   "id": "e3341b54",
   "metadata": {},
   "outputs": [
    {
     "name": "stderr",
     "output_type": "stream",
     "text": [
      "/var/folders/h_/833jl6755tjcbwvsbz1qd8tr0000gn/T/ipykernel_25493/1915230597.py:1: FutureWarning: A value is trying to be set on a copy of a DataFrame or Series through chained assignment using an inplace method.\n",
      "The behavior will change in pandas 3.0. This inplace method will never work because the intermediate object on which we are setting values always behaves as a copy.\n",
      "\n",
      "For example, when doing 'df[col].method(value, inplace=True)', try using 'df.method({col: value}, inplace=True)' or df[col] = df[col].method(value) instead, to perform the operation inplace on the original object.\n",
      "\n",
      "\n",
      "  df['electricity_per_month_kwh'].fillna(df['electricity_per_month_kwh'].mean(), inplace=True)\n"
     ]
    }
   ],
   "source": [
    "df['electricity_per_month_kwh'].fillna(df['electricity_per_month_kwh'].mean(), inplace=True)"
   ]
  },
  {
   "cell_type": "code",
   "execution_count": 27,
   "id": "7adb5956",
   "metadata": {},
   "outputs": [
    {
     "data": {
      "text/plain": [
       "private_km_per_week                0\n",
       "fuel_type                          0\n",
       "public_km_per_week                 0\n",
       "electricity_per_month_kwh          0\n",
       "uses_renewable_energy              0\n",
       "meat_frequency                    50\n",
       "dairy_frequency                    0\n",
       "short_flights_per_year             0\n",
       "long_flights_per_year              0\n",
       "clothing_shopping_freq             0\n",
       "electronics_shopping_freq          0\n",
       "recycles_regularly                 0\n",
       "waste_kg_per_week                  0\n",
       "household_size                     0\n",
       "home_type                          0\n",
       "annual_carbon_footprint_tonnes     0\n",
       "dtype: int64"
      ]
     },
     "execution_count": 27,
     "metadata": {},
     "output_type": "execute_result"
    }
   ],
   "source": [
    "df.isnull().sum()"
   ]
  },
  {
   "cell_type": "code",
   "execution_count": 28,
   "id": "22225c94",
   "metadata": {},
   "outputs": [
    {
     "name": "stderr",
     "output_type": "stream",
     "text": [
      "/var/folders/h_/833jl6755tjcbwvsbz1qd8tr0000gn/T/ipykernel_25493/4262764701.py:1: FutureWarning: A value is trying to be set on a copy of a DataFrame or Series through chained assignment using an inplace method.\n",
      "The behavior will change in pandas 3.0. This inplace method will never work because the intermediate object on which we are setting values always behaves as a copy.\n",
      "\n",
      "For example, when doing 'df[col].method(value, inplace=True)', try using 'df.method({col: value}, inplace=True)' or df[col] = df[col].method(value) instead, to perform the operation inplace on the original object.\n",
      "\n",
      "\n",
      "  df['meat_frequency'].fillna(df['meat_frequency'].mode()[0], inplace=True)\n"
     ]
    }
   ],
   "source": [
    "df['meat_frequency'].fillna(df['meat_frequency'].mode()[0], inplace=True)"
   ]
  },
  {
   "cell_type": "code",
   "execution_count": 30,
   "id": "a2ba650d",
   "metadata": {},
   "outputs": [
    {
     "data": {
      "text/plain": [
       "0    Never\n",
       "Name: meat_frequency, dtype: object"
      ]
     },
     "execution_count": 30,
     "metadata": {},
     "output_type": "execute_result"
    }
   ],
   "source": [
    "df['meat_frequency'].mode()"
   ]
  },
  {
   "cell_type": "code",
   "execution_count": 29,
   "id": "54103ab6",
   "metadata": {},
   "outputs": [
    {
     "data": {
      "text/plain": [
       "private_km_per_week               0\n",
       "fuel_type                         0\n",
       "public_km_per_week                0\n",
       "electricity_per_month_kwh         0\n",
       "uses_renewable_energy             0\n",
       "meat_frequency                    0\n",
       "dairy_frequency                   0\n",
       "short_flights_per_year            0\n",
       "long_flights_per_year             0\n",
       "clothing_shopping_freq            0\n",
       "electronics_shopping_freq         0\n",
       "recycles_regularly                0\n",
       "waste_kg_per_week                 0\n",
       "household_size                    0\n",
       "home_type                         0\n",
       "annual_carbon_footprint_tonnes    0\n",
       "dtype: int64"
      ]
     },
     "execution_count": 29,
     "metadata": {},
     "output_type": "execute_result"
    }
   ],
   "source": [
    "df.isnull().sum()"
   ]
  },
  {
   "cell_type": "code",
   "execution_count": 31,
   "id": "13c5cd6d",
   "metadata": {},
   "outputs": [
    {
     "name": "stdout",
     "output_type": "stream",
     "text": [
      "Categorical Columns:\n",
      "Index(['fuel_type', 'meat_frequency', 'dairy_frequency',\n",
      "       'clothing_shopping_freq', 'electronics_shopping_freq', 'home_type'],\n",
      "      dtype='object')\n",
      "\n",
      "Total: 6\n"
     ]
    }
   ],
   "source": [
    "categorical_cols = df.select_dtypes(include='object').columns\n",
    "print(\"Categorical Columns:\")\n",
    "print(categorical_cols)\n",
    "print(\"\\nTotal:\", len(categorical_cols))"
   ]
  },
  {
   "cell_type": "code",
   "execution_count": 32,
   "id": "3e383e5f",
   "metadata": {},
   "outputs": [],
   "source": [
    "df = pd.get_dummies(df, columns=[\n",
    "    'fuel_type', 'meat_frequency', 'dairy_frequency',\n",
    "    'clothing_shopping_freq', 'electronics_shopping_freq', 'home_type'\n",
    "], drop_first=True)"
   ]
  },
  {
   "cell_type": "code",
   "execution_count": 33,
   "id": "8c606afb",
   "metadata": {},
   "outputs": [
    {
     "data": {
      "text/plain": [
       "(1000, 28)"
      ]
     },
     "execution_count": 33,
     "metadata": {},
     "output_type": "execute_result"
    }
   ],
   "source": [
    "df.shape"
   ]
  },
  {
   "cell_type": "code",
   "execution_count": 34,
   "id": "d3be335e",
   "metadata": {},
   "outputs": [
    {
     "data": {
      "text/html": [
       "<div>\n",
       "<style scoped>\n",
       "    .dataframe tbody tr th:only-of-type {\n",
       "        vertical-align: middle;\n",
       "    }\n",
       "\n",
       "    .dataframe tbody tr th {\n",
       "        vertical-align: top;\n",
       "    }\n",
       "\n",
       "    .dataframe thead th {\n",
       "        text-align: right;\n",
       "    }\n",
       "</style>\n",
       "<table border=\"1\" class=\"dataframe\">\n",
       "  <thead>\n",
       "    <tr style=\"text-align: right;\">\n",
       "      <th></th>\n",
       "      <th>private_km_per_week</th>\n",
       "      <th>public_km_per_week</th>\n",
       "      <th>electricity_per_month_kwh</th>\n",
       "      <th>uses_renewable_energy</th>\n",
       "      <th>short_flights_per_year</th>\n",
       "      <th>long_flights_per_year</th>\n",
       "      <th>recycles_regularly</th>\n",
       "      <th>waste_kg_per_week</th>\n",
       "      <th>household_size</th>\n",
       "      <th>annual_carbon_footprint_tonnes</th>\n",
       "      <th>...</th>\n",
       "      <th>dairy_frequency_Weekly</th>\n",
       "      <th>clothing_shopping_freq_Never</th>\n",
       "      <th>clothing_shopping_freq_Quarterly</th>\n",
       "      <th>clothing_shopping_freq_Rarely</th>\n",
       "      <th>electronics_shopping_freq_Never</th>\n",
       "      <th>electronics_shopping_freq_Rarely</th>\n",
       "      <th>electronics_shopping_freq_Yearly</th>\n",
       "      <th>home_type_Bungalow</th>\n",
       "      <th>home_type_Independent</th>\n",
       "      <th>home_type_Rented Room</th>\n",
       "    </tr>\n",
       "  </thead>\n",
       "  <tbody>\n",
       "    <tr>\n",
       "      <th>0</th>\n",
       "      <td>315.0</td>\n",
       "      <td>223</td>\n",
       "      <td>576.0</td>\n",
       "      <td>0</td>\n",
       "      <td>6</td>\n",
       "      <td>1</td>\n",
       "      <td>1</td>\n",
       "      <td>10.46</td>\n",
       "      <td>2</td>\n",
       "      <td>0.11</td>\n",
       "      <td>...</td>\n",
       "      <td>False</td>\n",
       "      <td>False</td>\n",
       "      <td>True</td>\n",
       "      <td>False</td>\n",
       "      <td>True</td>\n",
       "      <td>False</td>\n",
       "      <td>False</td>\n",
       "      <td>False</td>\n",
       "      <td>True</td>\n",
       "      <td>False</td>\n",
       "    </tr>\n",
       "    <tr>\n",
       "      <th>1</th>\n",
       "      <td>278.0</td>\n",
       "      <td>292</td>\n",
       "      <td>50.0</td>\n",
       "      <td>1</td>\n",
       "      <td>1</td>\n",
       "      <td>4</td>\n",
       "      <td>1</td>\n",
       "      <td>9.21</td>\n",
       "      <td>3</td>\n",
       "      <td>0.07</td>\n",
       "      <td>...</td>\n",
       "      <td>True</td>\n",
       "      <td>True</td>\n",
       "      <td>False</td>\n",
       "      <td>False</td>\n",
       "      <td>False</td>\n",
       "      <td>False</td>\n",
       "      <td>False</td>\n",
       "      <td>False</td>\n",
       "      <td>False</td>\n",
       "      <td>False</td>\n",
       "    </tr>\n",
       "    <tr>\n",
       "      <th>2</th>\n",
       "      <td>35.0</td>\n",
       "      <td>266</td>\n",
       "      <td>654.0</td>\n",
       "      <td>0</td>\n",
       "      <td>3</td>\n",
       "      <td>4</td>\n",
       "      <td>1</td>\n",
       "      <td>14.43</td>\n",
       "      <td>4</td>\n",
       "      <td>0.10</td>\n",
       "      <td>...</td>\n",
       "      <td>False</td>\n",
       "      <td>True</td>\n",
       "      <td>False</td>\n",
       "      <td>False</td>\n",
       "      <td>False</td>\n",
       "      <td>True</td>\n",
       "      <td>False</td>\n",
       "      <td>False</td>\n",
       "      <td>True</td>\n",
       "      <td>False</td>\n",
       "    </tr>\n",
       "    <tr>\n",
       "      <th>3</th>\n",
       "      <td>160.0</td>\n",
       "      <td>246</td>\n",
       "      <td>784.0</td>\n",
       "      <td>1</td>\n",
       "      <td>7</td>\n",
       "      <td>0</td>\n",
       "      <td>1</td>\n",
       "      <td>16.25</td>\n",
       "      <td>7</td>\n",
       "      <td>0.12</td>\n",
       "      <td>...</td>\n",
       "      <td>False</td>\n",
       "      <td>False</td>\n",
       "      <td>False</td>\n",
       "      <td>False</td>\n",
       "      <td>False</td>\n",
       "      <td>True</td>\n",
       "      <td>False</td>\n",
       "      <td>False</td>\n",
       "      <td>False</td>\n",
       "      <td>True</td>\n",
       "    </tr>\n",
       "    <tr>\n",
       "      <th>4</th>\n",
       "      <td>88.0</td>\n",
       "      <td>48</td>\n",
       "      <td>299.0</td>\n",
       "      <td>0</td>\n",
       "      <td>6</td>\n",
       "      <td>3</td>\n",
       "      <td>0</td>\n",
       "      <td>5.38</td>\n",
       "      <td>6</td>\n",
       "      <td>0.06</td>\n",
       "      <td>...</td>\n",
       "      <td>True</td>\n",
       "      <td>False</td>\n",
       "      <td>False</td>\n",
       "      <td>True</td>\n",
       "      <td>False</td>\n",
       "      <td>True</td>\n",
       "      <td>False</td>\n",
       "      <td>False</td>\n",
       "      <td>True</td>\n",
       "      <td>False</td>\n",
       "    </tr>\n",
       "  </tbody>\n",
       "</table>\n",
       "<p>5 rows × 28 columns</p>\n",
       "</div>"
      ],
      "text/plain": [
       "   private_km_per_week  public_km_per_week  electricity_per_month_kwh  \\\n",
       "0                315.0                 223                      576.0   \n",
       "1                278.0                 292                       50.0   \n",
       "2                 35.0                 266                      654.0   \n",
       "3                160.0                 246                      784.0   \n",
       "4                 88.0                  48                      299.0   \n",
       "\n",
       "   uses_renewable_energy  short_flights_per_year  long_flights_per_year  \\\n",
       "0                      0                       6                      1   \n",
       "1                      1                       1                      4   \n",
       "2                      0                       3                      4   \n",
       "3                      1                       7                      0   \n",
       "4                      0                       6                      3   \n",
       "\n",
       "   recycles_regularly  waste_kg_per_week  household_size  \\\n",
       "0                   1              10.46               2   \n",
       "1                   1               9.21               3   \n",
       "2                   1              14.43               4   \n",
       "3                   1              16.25               7   \n",
       "4                   0               5.38               6   \n",
       "\n",
       "   annual_carbon_footprint_tonnes  ...  dairy_frequency_Weekly  \\\n",
       "0                            0.11  ...                   False   \n",
       "1                            0.07  ...                    True   \n",
       "2                            0.10  ...                   False   \n",
       "3                            0.12  ...                   False   \n",
       "4                            0.06  ...                    True   \n",
       "\n",
       "   clothing_shopping_freq_Never  clothing_shopping_freq_Quarterly  \\\n",
       "0                         False                              True   \n",
       "1                          True                             False   \n",
       "2                          True                             False   \n",
       "3                         False                             False   \n",
       "4                         False                             False   \n",
       "\n",
       "   clothing_shopping_freq_Rarely  electronics_shopping_freq_Never  \\\n",
       "0                          False                             True   \n",
       "1                          False                            False   \n",
       "2                          False                            False   \n",
       "3                          False                            False   \n",
       "4                           True                            False   \n",
       "\n",
       "   electronics_shopping_freq_Rarely  electronics_shopping_freq_Yearly  \\\n",
       "0                             False                             False   \n",
       "1                             False                             False   \n",
       "2                              True                             False   \n",
       "3                              True                             False   \n",
       "4                              True                             False   \n",
       "\n",
       "   home_type_Bungalow  home_type_Independent  home_type_Rented Room  \n",
       "0               False                   True                  False  \n",
       "1               False                  False                  False  \n",
       "2               False                   True                  False  \n",
       "3               False                  False                   True  \n",
       "4               False                   True                  False  \n",
       "\n",
       "[5 rows x 28 columns]"
      ]
     },
     "execution_count": 34,
     "metadata": {},
     "output_type": "execute_result"
    }
   ],
   "source": [
    "df.head()"
   ]
  },
  {
   "cell_type": "code",
   "execution_count": 35,
   "id": "102a4a80",
   "metadata": {},
   "outputs": [
    {
     "name": "stdout",
     "output_type": "stream",
     "text": [
      "Categorical Columns:\n",
      "Index([], dtype='object')\n",
      "\n",
      "Total: 0\n"
     ]
    }
   ],
   "source": [
    "categorical_cols = df.select_dtypes(include='object').columns\n",
    "print(\"Categorical Columns:\")\n",
    "print(categorical_cols)\n",
    "print(\"\\nTotal:\", len(categorical_cols))"
   ]
  },
  {
   "cell_type": "code",
   "execution_count": 36,
   "id": "361a77ed",
   "metadata": {},
   "outputs": [],
   "source": [
    "# Only convert bool columns to int\n",
    "bool_cols = df.select_dtypes(include='bool').columns\n",
    "df[bool_cols] = df[bool_cols].astype(int)"
   ]
  },
  {
   "cell_type": "code",
   "execution_count": 37,
   "id": "b348f831",
   "metadata": {},
   "outputs": [
    {
     "data": {
      "text/html": [
       "<div>\n",
       "<style scoped>\n",
       "    .dataframe tbody tr th:only-of-type {\n",
       "        vertical-align: middle;\n",
       "    }\n",
       "\n",
       "    .dataframe tbody tr th {\n",
       "        vertical-align: top;\n",
       "    }\n",
       "\n",
       "    .dataframe thead th {\n",
       "        text-align: right;\n",
       "    }\n",
       "</style>\n",
       "<table border=\"1\" class=\"dataframe\">\n",
       "  <thead>\n",
       "    <tr style=\"text-align: right;\">\n",
       "      <th></th>\n",
       "      <th>private_km_per_week</th>\n",
       "      <th>public_km_per_week</th>\n",
       "      <th>electricity_per_month_kwh</th>\n",
       "      <th>uses_renewable_energy</th>\n",
       "      <th>short_flights_per_year</th>\n",
       "      <th>long_flights_per_year</th>\n",
       "      <th>recycles_regularly</th>\n",
       "      <th>waste_kg_per_week</th>\n",
       "      <th>household_size</th>\n",
       "      <th>annual_carbon_footprint_tonnes</th>\n",
       "      <th>...</th>\n",
       "      <th>dairy_frequency_Weekly</th>\n",
       "      <th>clothing_shopping_freq_Never</th>\n",
       "      <th>clothing_shopping_freq_Quarterly</th>\n",
       "      <th>clothing_shopping_freq_Rarely</th>\n",
       "      <th>electronics_shopping_freq_Never</th>\n",
       "      <th>electronics_shopping_freq_Rarely</th>\n",
       "      <th>electronics_shopping_freq_Yearly</th>\n",
       "      <th>home_type_Bungalow</th>\n",
       "      <th>home_type_Independent</th>\n",
       "      <th>home_type_Rented Room</th>\n",
       "    </tr>\n",
       "  </thead>\n",
       "  <tbody>\n",
       "    <tr>\n",
       "      <th>0</th>\n",
       "      <td>315.0</td>\n",
       "      <td>223</td>\n",
       "      <td>576.0</td>\n",
       "      <td>0</td>\n",
       "      <td>6</td>\n",
       "      <td>1</td>\n",
       "      <td>1</td>\n",
       "      <td>10.46</td>\n",
       "      <td>2</td>\n",
       "      <td>0.11</td>\n",
       "      <td>...</td>\n",
       "      <td>0</td>\n",
       "      <td>0</td>\n",
       "      <td>1</td>\n",
       "      <td>0</td>\n",
       "      <td>1</td>\n",
       "      <td>0</td>\n",
       "      <td>0</td>\n",
       "      <td>0</td>\n",
       "      <td>1</td>\n",
       "      <td>0</td>\n",
       "    </tr>\n",
       "    <tr>\n",
       "      <th>1</th>\n",
       "      <td>278.0</td>\n",
       "      <td>292</td>\n",
       "      <td>50.0</td>\n",
       "      <td>1</td>\n",
       "      <td>1</td>\n",
       "      <td>4</td>\n",
       "      <td>1</td>\n",
       "      <td>9.21</td>\n",
       "      <td>3</td>\n",
       "      <td>0.07</td>\n",
       "      <td>...</td>\n",
       "      <td>1</td>\n",
       "      <td>1</td>\n",
       "      <td>0</td>\n",
       "      <td>0</td>\n",
       "      <td>0</td>\n",
       "      <td>0</td>\n",
       "      <td>0</td>\n",
       "      <td>0</td>\n",
       "      <td>0</td>\n",
       "      <td>0</td>\n",
       "    </tr>\n",
       "    <tr>\n",
       "      <th>2</th>\n",
       "      <td>35.0</td>\n",
       "      <td>266</td>\n",
       "      <td>654.0</td>\n",
       "      <td>0</td>\n",
       "      <td>3</td>\n",
       "      <td>4</td>\n",
       "      <td>1</td>\n",
       "      <td>14.43</td>\n",
       "      <td>4</td>\n",
       "      <td>0.10</td>\n",
       "      <td>...</td>\n",
       "      <td>0</td>\n",
       "      <td>1</td>\n",
       "      <td>0</td>\n",
       "      <td>0</td>\n",
       "      <td>0</td>\n",
       "      <td>1</td>\n",
       "      <td>0</td>\n",
       "      <td>0</td>\n",
       "      <td>1</td>\n",
       "      <td>0</td>\n",
       "    </tr>\n",
       "    <tr>\n",
       "      <th>3</th>\n",
       "      <td>160.0</td>\n",
       "      <td>246</td>\n",
       "      <td>784.0</td>\n",
       "      <td>1</td>\n",
       "      <td>7</td>\n",
       "      <td>0</td>\n",
       "      <td>1</td>\n",
       "      <td>16.25</td>\n",
       "      <td>7</td>\n",
       "      <td>0.12</td>\n",
       "      <td>...</td>\n",
       "      <td>0</td>\n",
       "      <td>0</td>\n",
       "      <td>0</td>\n",
       "      <td>0</td>\n",
       "      <td>0</td>\n",
       "      <td>1</td>\n",
       "      <td>0</td>\n",
       "      <td>0</td>\n",
       "      <td>0</td>\n",
       "      <td>1</td>\n",
       "    </tr>\n",
       "    <tr>\n",
       "      <th>4</th>\n",
       "      <td>88.0</td>\n",
       "      <td>48</td>\n",
       "      <td>299.0</td>\n",
       "      <td>0</td>\n",
       "      <td>6</td>\n",
       "      <td>3</td>\n",
       "      <td>0</td>\n",
       "      <td>5.38</td>\n",
       "      <td>6</td>\n",
       "      <td>0.06</td>\n",
       "      <td>...</td>\n",
       "      <td>1</td>\n",
       "      <td>0</td>\n",
       "      <td>0</td>\n",
       "      <td>1</td>\n",
       "      <td>0</td>\n",
       "      <td>1</td>\n",
       "      <td>0</td>\n",
       "      <td>0</td>\n",
       "      <td>1</td>\n",
       "      <td>0</td>\n",
       "    </tr>\n",
       "  </tbody>\n",
       "</table>\n",
       "<p>5 rows × 28 columns</p>\n",
       "</div>"
      ],
      "text/plain": [
       "   private_km_per_week  public_km_per_week  electricity_per_month_kwh  \\\n",
       "0                315.0                 223                      576.0   \n",
       "1                278.0                 292                       50.0   \n",
       "2                 35.0                 266                      654.0   \n",
       "3                160.0                 246                      784.0   \n",
       "4                 88.0                  48                      299.0   \n",
       "\n",
       "   uses_renewable_energy  short_flights_per_year  long_flights_per_year  \\\n",
       "0                      0                       6                      1   \n",
       "1                      1                       1                      4   \n",
       "2                      0                       3                      4   \n",
       "3                      1                       7                      0   \n",
       "4                      0                       6                      3   \n",
       "\n",
       "   recycles_regularly  waste_kg_per_week  household_size  \\\n",
       "0                   1              10.46               2   \n",
       "1                   1               9.21               3   \n",
       "2                   1              14.43               4   \n",
       "3                   1              16.25               7   \n",
       "4                   0               5.38               6   \n",
       "\n",
       "   annual_carbon_footprint_tonnes  ...  dairy_frequency_Weekly  \\\n",
       "0                            0.11  ...                       0   \n",
       "1                            0.07  ...                       1   \n",
       "2                            0.10  ...                       0   \n",
       "3                            0.12  ...                       0   \n",
       "4                            0.06  ...                       1   \n",
       "\n",
       "   clothing_shopping_freq_Never  clothing_shopping_freq_Quarterly  \\\n",
       "0                             0                                 1   \n",
       "1                             1                                 0   \n",
       "2                             1                                 0   \n",
       "3                             0                                 0   \n",
       "4                             0                                 0   \n",
       "\n",
       "   clothing_shopping_freq_Rarely  electronics_shopping_freq_Never  \\\n",
       "0                              0                                1   \n",
       "1                              0                                0   \n",
       "2                              0                                0   \n",
       "3                              0                                0   \n",
       "4                              1                                0   \n",
       "\n",
       "   electronics_shopping_freq_Rarely  electronics_shopping_freq_Yearly  \\\n",
       "0                                 0                                 0   \n",
       "1                                 0                                 0   \n",
       "2                                 1                                 0   \n",
       "3                                 1                                 0   \n",
       "4                                 1                                 0   \n",
       "\n",
       "   home_type_Bungalow  home_type_Independent  home_type_Rented Room  \n",
       "0                   0                      1                      0  \n",
       "1                   0                      0                      0  \n",
       "2                   0                      1                      0  \n",
       "3                   0                      0                      1  \n",
       "4                   0                      1                      0  \n",
       "\n",
       "[5 rows x 28 columns]"
      ]
     },
     "execution_count": 37,
     "metadata": {},
     "output_type": "execute_result"
    }
   ],
   "source": [
    "df.head()"
   ]
  },
  {
   "cell_type": "code",
   "execution_count": 38,
   "id": "bc75c834",
   "metadata": {},
   "outputs": [],
   "source": [
    "df.to_csv(\"cleaned_carbon_footprint_data.csv\", index=False)"
   ]
  }
 ],
 "metadata": {
  "kernelspec": {
   "display_name": "venv",
   "language": "python",
   "name": "python3"
  },
  "language_info": {
   "codemirror_mode": {
    "name": "ipython",
    "version": 3
   },
   "file_extension": ".py",
   "mimetype": "text/x-python",
   "name": "python",
   "nbconvert_exporter": "python",
   "pygments_lexer": "ipython3",
   "version": "3.12.7"
  }
 },
 "nbformat": 4,
 "nbformat_minor": 5
}
